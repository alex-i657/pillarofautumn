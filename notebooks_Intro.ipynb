{
  "cells": [
    {
      "cell_type": "code",
      "execution_count": null,
      "id": "c1af37c5-d531-4bd8-a7b3-e920694c3dfe",
      "metadata": {
        "trusted": true
      },
      "outputs": [],
      "source": [
        "import_file = \"allow_list.txt\"           #Assign 'import_file' to the name of the file\n",
        "\n",
        "with open(import_file, \"r\") as file:     #Build 'with' statement to read the initial contents of the file\n",
        "    ip_addresses = file.read()           #Use '.read()' to read the imported file and store it in a variable named 'ip_addresses'\n",
        "    ip_addresses = ip_addresses.split()  #Use '.split()' to convert ip_addresses from a string to a list\n",
        "\n",
        "for element in remove_list:              #This loop searches for elements in remove_list to see if they are also in ip_addresses\n",
        "    if element in ip_addresses:          #Elements in remove_list that are also in ip_addresses are then removed from ip_addresses\n",
        "        ip.remove(element)\n",
        "        \n",
        "ip_addresses = \"\\n\".join(ip_addresses)    #Converts ip_addresses back into a string\n",
        "\n",
        "with open(import_file, \"w\") as file:     #Build 'with' statement to rewrite original file\n",
        "    file.write(ip_addresses)             #Replaces contents of file with ip_addresses"
      ]
    },
    {
      "cell_type": "code",
      "execution_count": null,
      "id": "68964cf8-3b9d-4c48-a9d9-a507070926fc",
      "metadata": {},
      "outputs": [],
      "source": []
    }
  ],
  "metadata": {
    "kernelspec": {
      "display_name": "Python (Pyodide)",
      "language": "python",
      "name": "python"
    },
    "language_info": {
      "codemirror_mode": {
        "name": "python",
        "version": 3
      },
      "file_extension": ".py",
      "mimetype": "text/x-python",
      "name": "python",
      "nbconvert_exporter": "python",
      "pygments_lexer": "ipython3",
      "version": "3.8"
    }
  },
  "nbformat": 4,
  "nbformat_minor": 5
}
