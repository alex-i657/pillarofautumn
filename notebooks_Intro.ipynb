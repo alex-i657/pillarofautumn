{
  "metadata": {
    "kernelspec": {
      "name": "python",
      "display_name": "Python (Pyodide)",
      "language": "python"
    },
    "language_info": {
      "codemirror_mode": {
        "name": "python",
        "version": 3
      },
      "file_extension": ".py",
      "mimetype": "text/x-python",
      "name": "python",
      "nbconvert_exporter": "python",
      "pygments_lexer": "ipython3",
      "version": "3.8"
    }
  },
  "nbformat_minor": 5,
  "nbformat": 4,
  "cells": [
    {
      "cell_type": "code",
      "source": "import_file = \"allow_list.txt\"           #Assign 'import_file' to the name of the file\n\nwith open(import_file, \"r\") as file:     #Build 'with' statement to read the initial contents of the file\n    ip_addresses = file.read()           #Use '.read()' to read the imported file and store it in a variable named 'ip_addresses'\n    ip_addresses = ip_addresses.split()  #Use '.split()' to convert ip_addresses from a string to a list\n\nfor element in remove_list:              #This loop searches for elements in remove_list to see if they are also in ip_addresses\n    if element in ip_addresses:          #Elements in remove_list that are also in ip_addresses are then removed from ip_addresses\n        ip.remove(element)\n        \nip_addresses = \"\\n\".join(ip_addresses)    #Converts ip_addresses back into a string\n\nwith open(import_file, \"w\") as file:     #Build 'with' statement to rewrite original file\n    file.write(ip_addresses)             #Replaces contents of file with ip_addresses",
      "metadata": {
        "trusted": true
      },
      "execution_count": 3,
      "outputs": [
        {
          "ename": "<class 'FileNotFoundError'>",
          "evalue": "[Errno 44] No such file or directory: 'allow_list.txt'",
          "traceback": [
            "\u001b[0;31m---------------------------------------------------------------------------\u001b[0m",
            "\u001b[0;31mFileNotFoundError\u001b[0m                         Traceback (most recent call last)",
            "Cell \u001b[0;32mIn[3], line 3\u001b[0m\n\u001b[1;32m      1\u001b[0m import_file \u001b[38;5;241m=\u001b[39m \u001b[38;5;124m\"\u001b[39m\u001b[38;5;124mallow_list.txt\u001b[39m\u001b[38;5;124m\"\u001b[39m           \u001b[38;5;66;03m#Assign 'import_file' to the name of the file\u001b[39;00m\n\u001b[0;32m----> 3\u001b[0m \u001b[38;5;28;01mwith\u001b[39;00m \u001b[38;5;28;43mopen\u001b[39;49m\u001b[43m(\u001b[49m\u001b[43mimport_file\u001b[49m\u001b[43m,\u001b[49m\u001b[43m \u001b[49m\u001b[38;5;124;43m\"\u001b[39;49m\u001b[38;5;124;43mr\u001b[39;49m\u001b[38;5;124;43m\"\u001b[39;49m\u001b[43m)\u001b[49m \u001b[38;5;28;01mas\u001b[39;00m file:     \u001b[38;5;66;03m#Build 'with' statement to read the initial contents of the file\u001b[39;00m\n\u001b[1;32m      4\u001b[0m     ip_addresses \u001b[38;5;241m=\u001b[39m file\u001b[38;5;241m.\u001b[39mread()           \u001b[38;5;66;03m#Use '.read()' to read the imported file and store it in a variable named 'ip_addresses'\u001b[39;00m\n\u001b[1;32m      5\u001b[0m     ip_addresses \u001b[38;5;241m=\u001b[39m ip_addresses\u001b[38;5;241m.\u001b[39msplit()  \u001b[38;5;66;03m#Use '.split()' to convert ip_addresses from a string to a list\u001b[39;00m\n",
            "File \u001b[0;32m/lib/python3.11/site-packages/IPython/core/interactiveshell.py:286\u001b[0m, in \u001b[0;36m_modified_open\u001b[0;34m(file, *args, **kwargs)\u001b[0m\n\u001b[1;32m    279\u001b[0m \u001b[38;5;28;01mif\u001b[39;00m file \u001b[38;5;129;01min\u001b[39;00m {\u001b[38;5;241m0\u001b[39m, \u001b[38;5;241m1\u001b[39m, \u001b[38;5;241m2\u001b[39m}:\n\u001b[1;32m    280\u001b[0m     \u001b[38;5;28;01mraise\u001b[39;00m \u001b[38;5;167;01mValueError\u001b[39;00m(\n\u001b[1;32m    281\u001b[0m         \u001b[38;5;124mf\u001b[39m\u001b[38;5;124m\"\u001b[39m\u001b[38;5;124mIPython won\u001b[39m\u001b[38;5;124m'\u001b[39m\u001b[38;5;124mt let you open fd=\u001b[39m\u001b[38;5;132;01m{\u001b[39;00mfile\u001b[38;5;132;01m}\u001b[39;00m\u001b[38;5;124m by default \u001b[39m\u001b[38;5;124m\"\u001b[39m\n\u001b[1;32m    282\u001b[0m         \u001b[38;5;124m\"\u001b[39m\u001b[38;5;124mas it is likely to crash IPython. If you know what you are doing, \u001b[39m\u001b[38;5;124m\"\u001b[39m\n\u001b[1;32m    283\u001b[0m         \u001b[38;5;124m\"\u001b[39m\u001b[38;5;124myou can use builtins\u001b[39m\u001b[38;5;124m'\u001b[39m\u001b[38;5;124m open.\u001b[39m\u001b[38;5;124m\"\u001b[39m\n\u001b[1;32m    284\u001b[0m     )\n\u001b[0;32m--> 286\u001b[0m \u001b[38;5;28;01mreturn\u001b[39;00m \u001b[43mio_open\u001b[49m\u001b[43m(\u001b[49m\u001b[43mfile\u001b[49m\u001b[43m,\u001b[49m\u001b[43m \u001b[49m\u001b[38;5;241;43m*\u001b[39;49m\u001b[43margs\u001b[49m\u001b[43m,\u001b[49m\u001b[43m \u001b[49m\u001b[38;5;241;43m*\u001b[39;49m\u001b[38;5;241;43m*\u001b[39;49m\u001b[43mkwargs\u001b[49m\u001b[43m)\u001b[49m\n",
            "\u001b[0;31mFileNotFoundError\u001b[0m: [Errno 44] No such file or directory: 'allow_list.txt'"
          ],
          "output_type": "error"
        }
      ],
      "id": "c1af37c5-d531-4bd8-a7b3-e920694c3dfe"
    },
    {
      "cell_type": "code",
      "source": "",
      "metadata": {},
      "execution_count": null,
      "outputs": [],
      "id": "68964cf8-3b9d-4c48-a9d9-a507070926fc"
    }
  ]
}